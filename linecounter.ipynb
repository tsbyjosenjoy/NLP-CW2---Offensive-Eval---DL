{
 "cells": [
  {
   "cell_type": "code",
   "execution_count": 1,
   "id": "c01d2761",
   "metadata": {},
   "outputs": [
    {
     "data": {
      "text/plain": [
       "668"
      ]
     },
     "execution_count": 1,
     "metadata": {},
     "output_type": "execute_result"
    }
   ],
   "source": [
    "import nbformat\n",
    "\n",
    "def count_code_lines(nb_path):\n",
    "    with open(nb_path, 'r', encoding='utf-8') as f:\n",
    "        nb = nbformat.read(f, as_version=4)\n",
    "\n",
    "    code_lines = 0\n",
    "    for cell in nb.cells:\n",
    "        if cell.cell_type == 'code':\n",
    "            code_lines += len(cell.source.splitlines())\n",
    "\n",
    "    return code_lines\n",
    "\n",
    "# Usage:\n",
    "count_code_lines(\"offensive_eval.ipynb\")"
   ]
  }
 ],
 "metadata": {
  "kernelspec": {
   "display_name": "Python 3",
   "language": "python",
   "name": "python3"
  },
  "language_info": {
   "codemirror_mode": {
    "name": "ipython",
    "version": 3
   },
   "file_extension": ".py",
   "mimetype": "text/x-python",
   "name": "python",
   "nbconvert_exporter": "python",
   "pygments_lexer": "ipython3",
   "version": "3.13.1"
  }
 },
 "nbformat": 4,
 "nbformat_minor": 5
}
